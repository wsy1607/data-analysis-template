{
 "metadata": {
  "name": ""
 },
 "nbformat": 3,
 "nbformat_minor": 0,
 "worksheets": [
  {
   "cells": [
    {
     "cell_type": "heading",
     "level": 1,
     "metadata": {},
     "source": [
      "Data Gathering"
     ]
    },
    {
     "cell_type": "markdown",
     "metadata": {},
     "source": [
      "In this notebook, you'll\n",
      "\n",
      "* create the directory structure for your project\n",
      "* download the raw data for your project\n",
      "* **write functions and classes to transform raw data (e.g in XML, jason, etc.) into data frames**\n",
      "* explain what your are doing"
     ]
    },
    {
     "cell_type": "markdown",
     "metadata": {},
     "source": [
      "##Team members responsible for this notebook:\n",
      "\n",
      "List the team members contributing to this notebook, along with their responsabilities:\n",
      "\n",
      "* team member 1 **name**: team member 1 **responsabilities**\n",
      "* team member 2 **name**: team member 2 **responsabilities**\n",
      "* etc.\n",
      "\n",
      "I advise you to work at least in pairs for each project notebook, as you did for the homework assignments. Of course, all team members may participate to each notebook. "
     ]
    },
    {
     "cell_type": "markdown",
     "metadata": {},
     "source": [
      "##Instructions:\n",
      "\n",
      "In **markdown cells**, you'll\n",
      "\n",
      "* list and describe the data sources for your class project\n",
      "    * provide the data urls\n",
      "    * describe the file formats\n",
      "    * explain the data content of each file\n",
      "   \n",
      "**Remark:** If your data is not directly available through the web (for instance, you requested it from a company, or got it from Inna or Henry), place you data into your personal bdrive, and provide a link to it, that you'll use in this notebook to download it into the data folder, as explained below).\n",
      "\n",
      "\n",
      "In **code cells**, you'll\n",
      "\n",
      "* create the following directories:\n",
      "\n",
      "        ./data\n",
      "        ./data/raw        # to store your raw data\n",
      "        ./data/cleaned    # to store the cleanned data\n",
      "        ./data/simulated  # to store simulated data\n",
      "        ./visualizations  # to store your plots\n",
      "\n",
      "\n",
      "* display samples of your data files (e.g. for a csv files, use data frames and the <code>head</code> method)\n",
      "\n",
      "\n",
      "*  Write **scripts** into the <code>./script</code> directory using the he **magic command** \n",
      "\n",
      "    %%file ./script/file_name\n",
      "    \n",
      "Your scripts should contain **functions** and **objects** allowing you to\n",
      "\n",
      "* download the actual raw data in the directory <code>./data/raw</code>\n",
      "\n",
      "\n",
      "* load the downloaded the raw data files into data frames\n",
      "\n",
      "This way, the functions and objects contained in your scripts will be accessible in other notebooks through the <code>import</code> command in Python (see example below).\n",
      "\n",
      "\n",
      "**Remark 1:** In the code cells, you may use Python, R, or Bash, as you find more convenient.\n",
      "\n",
      "\n",
      "**Remark 2:** Try to make your notebook as readable and usable (by others) as possible."
     ]
    },
    {
     "cell_type": "markdown",
     "metadata": {},
     "source": [
      "###Creating the directory structure"
     ]
    },
    {
     "cell_type": "code",
     "collapsed": false,
     "input": [
      "%%bash\n",
      "\n",
      "mkdir ./script ./data ./data/raw ./data/cleaned ./data/simulated ./visualizations\n",
      "ls -r"
     ],
     "language": "python",
     "metadata": {},
     "outputs": [
      {
       "output_type": "stream",
       "stream": "stdout",
       "text": [
        "visualizations\n",
        "script\n",
        "NB4_project_report.ipynb\n",
        "NB3_data_analysis.ipynb\n",
        "NB2_data_cleaning.ipynb\n",
        "NB1_data_gathering.ipynb\n",
        "file.zip\n",
        "data\n"
       ]
      }
     ],
     "prompt_number": 1
    },
    {
     "cell_type": "heading",
     "level": 3,
     "metadata": {},
     "source": [
      "Downloading and displaying raw data"
     ]
    },
    {
     "cell_type": "markdown",
     "metadata": {},
     "source": [
      "I am using bash to download the zip file."
     ]
    },
    {
     "cell_type": "code",
     "collapsed": false,
     "input": [
      "%%bash\n",
      "\n",
      "curl \"http://www.ope.ed.gov/security/dataFiles/Crime2013EXCEL.zip\" > file.zip"
     ],
     "language": "python",
     "metadata": {},
     "outputs": [
      {
       "output_type": "stream",
       "stream": "stderr",
       "text": [
        "  % Total    % Received % Xferd  Average Speed   Time    Time     Time  Current\n",
        "                                 Dload  Upload   Total   Spent    Left  Speed\n",
        "\r",
        "  0     0    0     0    0     0      0      0 --:--:-- --:--:-- --:--:--     0\r",
        "  0     0    0     0    0     0      0      0 --:--:-- --:--:-- --:--:--     0\r",
        "  0 39.3M    0  106k    0     0    99k      0  0:06:43  0:00:01  0:06:42   99k\r",
        "  1 39.3M    1  408k    0     0   199k      0  0:03:21  0:00:02  0:03:19  199k\r",
        "  1 39.3M    1  705k    0     0   232k      0  0:02:53  0:00:03  0:02:50  232k\r",
        "  2 39.3M    2 1006k    0     0   249k      0  0:02:41  0:00:04  0:02:37  249k\r",
        "  3 39.3M    3 1311k    0     0   260k      0  0:02:34  0:00:05  0:02:29  263k\r",
        "  3 39.3M    3 1559k    0     0   257k      0  0:02:36  0:00:06  0:02:30  291k\r",
        "  4 39.3M    4 1774k    0     0   252k      0  0:02:39  0:00:07  0:02:32  274k\r",
        "  5 39.3M    5 2079k    0     0   258k      0  0:02:35  0:00:08  0:02:27  274k\r",
        "  5 39.3M    5 2378k    0     0   263k      0  0:02:33  0:00:09  0:02:24  274k\r",
        "  6 39.3M    6 2683k    0     0   267k      0  0:02:30  0:00:10  0:02:20  274k\r",
        "  7 39.3M    7 2987k    0     0   270k      0  0:02:28  0:00:11  0:02:17  286k\r",
        "  8 39.3M    8 3289k    0     0   273k      0  0:02:27  0:00:12  0:02:15  303k\r",
        "  8 39.3M    8 3590k    0     0   275k      0  0:02:26  0:00:13  0:02:13  301k\r",
        "  9 39.3M    9 3893k    0     0   277k      0  0:02:25  0:00:14  0:02:11  302k\r",
        " 10 39.3M   10 4192k    0     0   279k      0  0:02:24  0:00:15  0:02:09  301k\r",
        " 11 39.3M   11 4494k    0     0   280k      0  0:02:23  0:00:16  0:02:07  301k\r",
        " 11 39.3M   11 4799k    0     0   281k      0  0:02:23  0:00:17  0:02:06  301k\r",
        " 12 39.3M   12 5098k    0     0   282k      0  0:02:22  0:00:18  0:02:04  302k\r",
        " 13 39.3M   13 5390k    0     0   283k      0  0:02:22  0:00:19  0:02:03  299k\r",
        " 14 39.3M   14 5685k    0     0   283k      0  0:02:21  0:00:20  0:02:01  298k\r",
        " 14 39.3M   14 5964k    0     0   283k      0  0:02:22  0:00:21  0:02:01  294k\r",
        " 15 39.3M   15 6250k    0     0   283k      0  0:02:22  0:00:22  0:02:00  290k\r",
        " 16 39.3M   16 6546k    0     0   284k      0  0:02:21  0:00:23  0:01:58  289k\r",
        " 16 39.3M   16 6843k    0     0   284k      0  0:02:21  0:00:24  0:01:57  290k\r",
        " 17 39.3M   17 7139k    0     0   285k      0  0:02:21  0:00:25  0:01:56  290k\r",
        " 18 39.3M   18 7433k    0     0   285k      0  0:02:21  0:00:26  0:01:55  293k\r",
        " 18 39.3M   18 7643k    0     0   282k      0  0:02:22  0:00:27  0:01:55  276k\r",
        " 19 39.3M   19 7924k    0     0   282k      0  0:02:22  0:00:28  0:01:54  275k\r",
        " 20 39.3M   20 8227k    0     0   283k      0  0:02:22  0:00:29  0:01:53  276k\r",
        " 21 39.3M   21 8526k    0     0   283k      0  0:02:21  0:00:30  0:01:51  277k\r",
        " 21 39.3M   21 8827k    0     0   284k      0  0:02:21  0:00:31  0:01:50  278k\r",
        " 22 39.3M   22 9127k    0     0   285k      0  0:02:21  0:00:32  0:01:49  299k\r",
        " 23 39.3M   23 9429k    0     0   285k      0  0:02:21  0:00:33  0:01:48  301k\r",
        " 24 39.3M   24 9731k    0     0   285k      0  0:02:20  0:00:34  0:01:46  300k\r",
        " 24 39.3M   24  9.7M    0     0   286k      0  0:02:20  0:00:35  0:01:45  300k\r",
        " 25 39.3M   25 10.0M    0     0   286k      0  0:02:20  0:00:36  0:01:44  300k\r",
        " 26 39.3M   26 10.3M    0     0   286k      0  0:02:20  0:00:37  0:01:43  298k\r",
        " 27 39.3M   27 10.6M    0     0   286k      0  0:02:20  0:00:38  0:01:42  294k\r",
        " 27 39.3M   27 10.9M    0     0   286k      0  0:02:20  0:00:39  0:01:41  293k\r",
        " 28 39.3M   28 11.2M    0     0   287k      0  0:02:20  0:00:40  0:01:40  295k\r",
        " 29 39.3M   29 11.5M    0     0   287k      0  0:02:20  0:00:41  0:01:39  293k\r",
        " 30 39.3M   30 11.8M    0     0   287k      0  0:02:20  0:00:42  0:01:38  295k\r",
        " 30 39.3M   30 12.1M    0     0   288k      0  0:02:19  0:00:43  0:01:36  298k\r",
        " 31 39.3M   31 12.3M    0     0   288k      0  0:02:19  0:00:44  0:01:35  300k\r",
        " 32 39.3M   32 12.6M    0     0   288k      0  0:02:19  0:00:45  0:01:34  296k\r",
        " 32 39.3M   32 12.9M    0     0   288k      0  0:02:19  0:00:46  0:01:33  298k\r",
        " 33 39.3M   33 13.2M    0     0   289k      0  0:02:19  0:00:47  0:01:32  298k\r",
        " 34 39.3M   34 13.5M    0     0   289k      0  0:02:19  0:00:48  0:01:31  299k\r",
        " 35 39.3M   35 13.8M    0     0   289k      0  0:02:19  0:00:49  0:01:30  301k\r",
        " 35 39.3M   35 14.1M    0     0   289k      0  0:02:19  0:00:50  0:01:29  304k\r",
        " 36 39.3M   36 14.4M    0     0   290k      0  0:02:18  0:00:51  0:01:27  302k\r",
        " 37 39.3M   37 14.7M    0     0   290k      0  0:02:18  0:00:52  0:01:26  304k\r",
        " 38 39.3M   38 15.0M    0     0   290k      0  0:02:18  0:00:53  0:01:25  303k\r",
        " 38 39.3M   38 15.3M    0     0   290k      0  0:02:18  0:00:54  0:01:24  300k\r",
        " 39 39.3M   39 15.6M    0     0   290k      0  0:02:18  0:00:55  0:01:23  296k\r",
        " 40 39.3M   40 15.9M    0     0   290k      0  0:02:18  0:00:56  0:01:22  297k\r",
        " 41 39.3M   41 16.1M    0     0   290k      0  0:02:18  0:00:57  0:01:21  294k\r",
        " 41 39.3M   41 16.4M    0     0   291k      0  0:02:18  0:00:58  0:01:20  294k\r",
        " 42 39.3M   42 16.7M    0     0   291k      0  0:02:18  0:00:59  0:01:19  297k\r",
        " 43 39.3M   43 17.0M    0     0   291k      0  0:02:18  0:01:00  0:01:18  300k\r",
        " 44 39.3M   44 17.3M    0     0   291k      0  0:02:18  0:01:01  0:01:17  299k\r",
        " 44 39.3M   44 17.6M    0     0   291k      0  0:02:18  0:01:02  0:01:16  303k\r",
        " 45 39.3M   45 17.9M    0     0   292k      0  0:02:18  0:01:03  0:01:15  304k\r",
        " 46 39.3M   46 18.2M    0     0   292k      0  0:02:17  0:01:04  0:01:13  303k\r",
        " 47 39.3M   47 18.5M    0     0   292k      0  0:02:17  0:01:05  0:01:12  304k\r",
        " 47 39.3M   47 18.8M    0     0   292k      0  0:02:17  0:01:06  0:01:11  303k\r",
        " 48 39.3M   48 19.1M    0     0   292k      0  0:02:17  0:01:07  0:01:10  301k\r",
        " 49 39.3M   49 19.4M    0     0   292k      0  0:02:17  0:01:08  0:01:09  300k\r",
        " 50 39.3M   50 19.7M    0     0   292k      0  0:02:17  0:01:09  0:01:08  301k\r",
        " 50 39.3M   50 20.0M    0     0   292k      0  0:02:17  0:01:10  0:01:07  299k\r",
        " 51 39.3M   51 20.3M    0     0   292k      0  0:02:17  0:01:11  0:01:06  295k\r",
        " 52 39.3M   52 20.5M    0     0   292k      0  0:02:17  0:01:12  0:01:05  296k\r",
        " 53 39.3M   53 20.8M    0     0   293k      0  0:02:17  0:01:13  0:01:04  297k\r",
        " 53 39.3M   53 21.1M    0     0   293k      0  0:02:17  0:01:14  0:01:03  299k\r",
        " 54 39.3M   54 21.4M    0     0   293k      0  0:02:17  0:01:15  0:01:02  299k\r",
        " 55 39.3M   55 21.7M    0     0   293k      0  0:02:17  0:01:16  0:01:01  305k\r",
        " 56 39.3M   56 22.0M    0     0   293k      0  0:02:17  0:01:17  0:01:00  304k\r",
        " 56 39.3M   56 22.3M    0     0   293k      0  0:02:17  0:01:18  0:00:59  302k\r",
        " 57 39.3M   57 22.6M    0     0   293k      0  0:02:17  0:01:19  0:00:58  298k\r",
        " 58 39.3M   58 22.9M    0     0   293k      0  0:02:17  0:01:20  0:00:57  301k\r",
        " 59 39.3M   59 23.2M    0     0   293k      0  0:02:17  0:01:21  0:00:56  297k\r",
        " 59 39.3M   59 23.5M    0     0   293k      0  0:02:17  0:01:22  0:00:55  300k\r",
        " 60 39.3M   60 23.8M    0     0   293k      0  0:02:17  0:01:23  0:00:54  299k\r",
        " 61 39.3M   61 24.1M    0     0   294k      0  0:02:17  0:01:24  0:00:53  301k\r",
        " 62 39.3M   62 24.4M    0     0   294k      0  0:02:17  0:01:25  0:00:52  298k\r",
        " 62 39.3M   62 24.7M    0     0   294k      0  0:02:17  0:01:26  0:00:51  301k\r",
        " 63 39.3M   63 24.9M    0     0   293k      0  0:02:17  0:01:27  0:00:50  290k\r",
        " 64 39.3M   64 25.2M    0     0   293k      0  0:02:17  0:01:28  0:00:49  291k\r",
        " 64 39.3M   64 25.5M    0     0   294k      0  0:02:17  0:01:29  0:00:48  293k\r",
        " 65 39.3M   65 25.8M    0     0   294k      0  0:02:16  0:01:30  0:00:46  296k\r",
        " 66 39.3M   66 26.1M    0     0   294k      0  0:02:16  0:01:31  0:00:45  296k\r",
        " 67 39.3M   67 26.4M    0     0   293k      0  0:02:17  0:01:32  0:00:45  297k\r",
        " 67 39.3M   67 26.6M    0     0   293k      0  0:02:17  0:01:33  0:00:44  289k\r",
        " 68 39.3M   68 26.9M    0     0   293k      0  0:02:17  0:01:34  0:00:43  287k\r",
        " 69 39.3M   69 27.2M    0     0   293k      0  0:02:17  0:01:35  0:00:42  287k\r",
        " 70 39.3M   70 27.5M    0     0   294k      0  0:02:17  0:01:36  0:00:41  288k\r",
        " 70 39.3M   70 27.8M    0     0   294k      0  0:02:17  0:01:37  0:00:40  295k\r",
        " 71 39.3M   71 28.1M    0     0   294k      0  0:02:17  0:01:38  0:00:39  304k\r",
        " 72 39.3M   72 28.4M    0     0   294k      0  0:02:16  0:01:39  0:00:37  306k\r",
        " 73 39.3M   73 28.7M    0     0   294k      0  0:02:16  0:01:40  0:00:36  304k\r",
        " 73 39.3M   73 29.0M    0     0   294k      0  0:02:16  0:01:41  0:00:35  303k\r",
        " 74 39.3M   74 29.3M    0     0   294k      0  0:02:16  0:01:42  0:00:34  305k\r",
        " 75 39.3M   75 29.6M    0     0   294k      0  0:02:16  0:01:43  0:00:33  306k\r",
        " 76 39.3M   76 29.9M    0     0   294k      0  0:02:16  0:01:44  0:00:32  304k\r",
        " 76 39.3M   76 30.2M    0     0   294k      0  0:02:16  0:01:45  0:00:31  303k\r",
        " 77 39.3M   77 30.5M    0     0   294k      0  0:02:16  0:01:46  0:00:30  303k\r",
        " 78 39.3M   78 30.8M    0     0   294k      0  0:02:16  0:01:47  0:00:29  302k\r",
        " 79 39.3M   79 31.1M    0     0   295k      0  0:02:16  0:01:48  0:00:28  302k\r",
        " 79 39.3M   79 31.4M    0     0   295k      0  0:02:16  0:01:49  0:00:27  303k\r",
        " 80 39.3M   80 31.7M    0     0   295k      0  0:02:16  0:01:50  0:00:26  305k\r",
        " 81 39.3M   81 32.0M    0     0   295k      0  0:02:16  0:01:51  0:00:25  306k\r",
        " 82 39.3M   82 32.3M    0     0   295k      0  0:02:16  0:01:52  0:00:24  309k\r",
        " 82 39.3M   82 32.6M    0     0   295k      0  0:02:16  0:01:53  0:00:23  309k\r",
        " 83 39.3M   83 32.9M    0     0   295k      0  0:02:16  0:01:54  0:00:22  307k\r",
        " 84 39.3M   84 33.2M    0     0   295k      0  0:02:16  0:01:55  0:00:21  308k\r",
        " 85 39.3M   85 33.5M    0     0   296k      0  0:02:16  0:01:56  0:00:20  308k\r",
        " 85 39.3M   85 33.8M    0     0   296k      0  0:02:16  0:01:57  0:00:19  306k\r",
        " 86 39.3M   86 34.1M    0     0   296k      0  0:02:16  0:01:58  0:00:18  304k\r",
        " 87 39.3M   87 34.4M    0     0   296k      0  0:02:16  0:01:59  0:00:17  306k\r",
        " 88 39.3M   88 34.7M    0     0   296k      0  0:02:16  0:02:00  0:00:16  304k\r",
        " 89 39.3M   89 35.0M    0     0   296k      0  0:02:16  0:02:01  0:00:15  302k\r",
        " 89 39.3M   89 35.3M    0     0   296k      0  0:02:15  0:02:02  0:00:13  303k\r",
        " 90 39.3M   90 35.6M    0     0   296k      0  0:02:15  0:02:03  0:00:12  304k\r",
        " 91 39.3M   91 35.9M    0     0   296k      0  0:02:15  0:02:04  0:00:11  303k\r",
        " 92 39.3M   92 36.2M    0     0   296k      0  0:02:15  0:02:05  0:00:10  305k\r",
        " 92 39.3M   92 36.5M    0     0   296k      0  0:02:15  0:02:06  0:00:09  306k\r",
        " 93 39.3M   93 36.8M    0     0   296k      0  0:02:15  0:02:07  0:00:08  304k\r",
        " 94 39.3M   94 37.0M    0     0   296k      0  0:02:15  0:02:08  0:00:07  297k\r",
        " 94 39.3M   94 37.3M    0     0   296k      0  0:02:15  0:02:09  0:00:06  296k\r",
        " 95 39.3M   95 37.6M    0     0   296k      0  0:02:15  0:02:10  0:00:05  294k\r",
        " 96 39.3M   96 37.9M    0     0   296k      0  0:02:15  0:02:11  0:00:04  295k\r",
        " 97 39.3M   97 38.2M    0     0   296k      0  0:02:15  0:02:12  0:00:03  296k\r",
        " 97 39.3M   97 38.5M    0     0   296k      0  0:02:15  0:02:13  0:00:02  302k\r",
        " 98 39.3M   98 38.8M    0     0   296k      0  0:02:15  0:02:14  0:00:01  308k\r",
        " 99 39.3M   99 39.1M    0     0   296k      0  0:02:15  0:02:15 --:--:--  307k\r",
        "100 39.3M  100 39.3M    0     0   296k      0  0:02:15  0:02:15 --:--:--  302k\n"
       ]
      }
     ],
     "prompt_number": 2
    },
    {
     "cell_type": "markdown",
     "metadata": {},
     "source": [
      "Copy the zip file to ./data/raw and upzip it."
     ]
    },
    {
     "cell_type": "code",
     "collapsed": false,
     "input": [
      "%%bash\n",
      "\n",
      "cp file.zip ./data/raw/data.zip\n",
      "cd ./data/raw\n",
      "unzip -o data.zip "
     ],
     "language": "python",
     "metadata": {},
     "outputs": [
      {
       "output_type": "stream",
       "stream": "stdout",
       "text": [
        "Archive:  data.zip\n",
        "  inflating: Publicpropertydiscipline101112_Doc.doc  \n",
        "  inflating: Publicpropertycrime101112_Doc.doc  \n",
        "  inflating: Publicpropertyarrest101112_Doc.doc  \n",
        "  inflating: Oncampusarrest101112_Doc.doc  \n",
        "  inflating: Noncampushate101112_Doc.doc  \n",
        "  inflating: Noncampusdiscipline101112_Doc.doc  \n",
        "  inflating: Oncampuscrime101112_Doc.doc  \n",
        "  inflating: Noncampuscrime101112_Doc.doc  \n",
        "  inflating: Noncampusarrest101112_Doc.doc  \n",
        "  inflating: Oncampusdiscipline101112_Doc.doc  \n",
        "  inflating: publicpropertyhate101112.xlsx  \n",
        "  inflating: noncampusarrest101112.xls  \n",
        "  inflating: Publicpropertydiscipline101112.xls  \n",
        "  inflating: Publicpropertycrime101112.xls  \n",
        "  inflating: oncampushate101112.xlsx  \n",
        "  inflating: Publicpropertyarrest101112.xls  \n",
        "  inflating: residencehallhate101112.xlsx  \n",
        "  inflating: oncampusdiscipline101112.xls  \n",
        "  inflating: oncampusarrest101112.xls  \n",
        "  inflating: Residencehallfire12.xls  \n",
        "  inflating: oncampuscrime101112.xls  \n",
        "  inflating: noncampushate101112.xlsx  \n",
        "  inflating: noncampusdiscipline101112.xls  \n",
        "  inflating: noncampuscrime101112.xls  \n",
        "  inflating: Residencehallfire11.xls  \n",
        "  inflating: Residencehallfire10.xls  \n",
        "  inflating: Residencehalldiscipline101112.xls  \n",
        "  inflating: Residencehallcrime101112.xls  \n",
        "  inflating: Residencehallarrest101112.xls  \n",
        "  inflating: reportedhate101112.xlsx  \n",
        "  inflating: reportedcrime101112.xls  \n",
        "  inflating: reportedarrest101112.xls  \n",
        "  inflating: reporteddiscipline101112.xls  \n",
        "  inflating: ReadMe.txt              \n",
        "  inflating: Residencehallfire12_Doc.doc  \n",
        "  inflating: Residencehallfire11_Doc.doc  \n",
        "  inflating: Residencehallfire10_Doc.doc  \n",
        "  inflating: Residencehallhate101112_Doc.doc  \n",
        "  inflating: Residencehalldiscipline101112_Doc.doc  \n",
        "  inflating: Residencehallcrime101112_Doc.doc  \n",
        "  inflating: Residencehallarrest101112_Doc.doc  \n",
        "  inflating: Oncampushate101112_Doc.doc  \n",
        "  inflating: Reportedhate101112_Doc.doc  \n",
        "  inflating: Reporteddiscipline101112_Doc.doc  \n",
        "  inflating: Reportedcrime101112_Doc.doc  \n",
        "  inflating: Reportedarrest101112_Doc.doc  \n",
        "  inflating: Publicpropertyhate101112_Doc.doc  \n"
       ]
      }
     ],
     "prompt_number": 3
    },
    {
     "cell_type": "code",
     "collapsed": false,
     "input": [
      "%%bash\n",
      "\n",
      "pwd"
     ],
     "language": "python",
     "metadata": {},
     "outputs": [
      {
       "output_type": "stream",
       "stream": "stdout",
       "text": [
        "/home/oski/project2/stat133-project2/examples\n"
       ]
      }
     ],
     "prompt_number": 1
    },
    {
     "cell_type": "markdown",
     "metadata": {},
     "source": [
      "**TO DO:** list sources, display data sample, explain data content, etc. "
     ]
    },
    {
     "cell_type": "heading",
     "level": 3,
     "metadata": {},
     "source": [
      "Loading raw data into data frames"
     ]
    },
    {
     "cell_type": "code",
     "collapsed": false,
     "input": [
      "%load_ext rmagic"
     ],
     "language": "python",
     "metadata": {},
     "outputs": [],
     "prompt_number": 2
    },
    {
     "cell_type": "markdown",
     "metadata": {},
     "source": [
      "Our form of raw data is .xls, so we will use pd.read_excel to load the data as a DataFrame."
     ]
    },
    {
     "cell_type": "code",
     "collapsed": false,
     "input": [
      "import pandas as pd\n",
      "import xlrd"
     ],
     "language": "python",
     "metadata": {},
     "outputs": [],
     "prompt_number": 3
    },
    {
     "cell_type": "code",
     "collapsed": false,
     "input": [
      "ls ~/project2/stat133-project2/examples/data/raw/oncampuscrime101112.xls"
     ],
     "language": "python",
     "metadata": {},
     "outputs": [
      {
       "output_type": "stream",
       "stream": "stdout",
       "text": [
        "/home/oski/project2/stat133-project2/examples/data/raw/oncampuscrime101112.xls\r\n"
       ]
      }
     ],
     "prompt_number": 4
    },
    {
     "cell_type": "code",
     "collapsed": false,
     "input": [
      "crime_file = '/home/oski/project2/stat133-project2/examples/data/raw/oncampuscrime101112.xls'\n",
      "sheet_name = 'oncampuscrime101112'\n",
      "\n",
      "data = pd.read_excel(crime_file, sheet_name, index_col=None, na_values=['NA'])"
     ],
     "language": "python",
     "metadata": {},
     "outputs": [],
     "prompt_number": 5
    },
    {
     "cell_type": "markdown",
     "metadata": {},
     "source": [
      "Write the DataFrame into R and save as a .csv file to be cleaned."
     ]
    },
    {
     "cell_type": "code",
     "collapsed": false,
     "input": [
      "%%R -i data\n",
      "\n",
      "print(tail(data))"
     ],
     "language": "python",
     "metadata": {},
     "outputs": [
      {
       "metadata": {},
       "output_type": "display_data",
       "text": [
        "       UNITID_P                                                         INSTNM\n",
        "11058 480523001                           Ross Medical Education Center-Dayton\n",
        "11059 480897001                                      UEI Colleges - Santa Cruz\n",
        "11060 480903001 New England Tractor Trailer Training School of CT - Bridgeport\n",
        "11061 480994001                                 Aspen Beauty Academy of Laurel\n",
        "11062 481438001                                        Yeshiva Yesodei Hatorah\n",
        "11063 481614001                                        ITT Technical Institute\n",
        "           BRANCH               Address       City State       ZIP sector_cd\n",
        "11058 Main Campus      4490 Brandt Pike     Dayton    OH     45424         9\n",
        "11059 UEI College  3050 Paul Sweet Road Santa Cruz    CA     95065        99\n",
        "11060 Main Campus        510 Barnum Ave Bridgeport    CT     06068        99\n",
        "11061 Main Campus  3535 Fort Meade Road     Laurel    MD     20724        99\n",
        "11062 Main Campus       2 Yesodei Court   Lakewood    NJ 087014946        99\n",
        "11063 Main Campus 6913 North 9th Avenue  Pensacola    FL 325046638        99\n",
        "                               Sector_desc men_total women_total Total MURD10\n",
        "11058 Private for-profit, less-than 2-year         1          92    93    NaN\n",
        "11059                      New Institution       NaN         NaN   NaN    NaN\n",
        "11060                      New Institution       NaN         NaN   NaN    NaN\n",
        "11061                      New Institution       NaN         NaN   NaN    NaN\n",
        "11062                      New Institution       NaN         NaN   NaN    NaN\n",
        "11063                      New Institution       NaN         NaN   NaN    NaN\n",
        "      NEG_M10 FORCIB10 NONFOR10 ROBBE10 AGG_A10 BURGLA10 VEHIC10 ARSON10 MURD11\n",
        "11058     NaN      NaN      NaN     NaN     NaN      NaN     NaN     NaN    NaN\n",
        "11059     NaN      NaN      NaN     NaN     NaN      NaN     NaN     NaN    NaN\n",
        "11060     NaN      NaN      NaN     NaN     NaN      NaN     NaN     NaN    NaN\n",
        "11061     NaN      NaN      NaN     NaN     NaN      NaN     NaN     NaN    NaN\n",
        "11062     NaN      NaN      NaN     NaN     NaN      NaN     NaN     NaN    NaN\n",
        "11063     NaN      NaN      NaN     NaN     NaN      NaN     NaN     NaN    NaN\n",
        "      NEG_M11 FORCIB11 NONFOR11 ROBBE11 AGG_A11 BURGLA11 VEHIC11 ARSON11 MURD12\n",
        "11058     NaN      NaN      NaN     NaN     NaN      NaN     NaN     NaN      0\n",
        "11059     NaN      NaN      NaN     NaN     NaN      NaN     NaN     NaN      0\n",
        "11060     NaN      NaN      NaN     NaN     NaN      NaN     NaN     NaN      0\n",
        "11061     NaN      NaN      NaN     NaN     NaN      NaN     NaN     NaN      0\n",
        "11062     NaN      NaN      NaN     NaN     NaN      NaN     NaN     NaN      0\n",
        "11063     NaN      NaN      NaN     NaN     NaN      NaN     NaN     NaN      0\n",
        "      NEG_M12 FORCIB12 NONFOR12 ROBBE12 AGG_A12 BURGLA12 VEHIC12 ARSON12\n",
        "11058       0        0        0       0       0        0       0       0\n",
        "11059       0        0        0       0       0        0       0       0\n",
        "11060       0        0        0       0       0        0       0       0\n",
        "11061       0        0        0       0       0        0       0       0\n",
        "11062       0        0        0       0       0        0       0       0\n",
        "11063       0        0        0       0       0        0       0       0\n",
        "      FILTER10 FILTER11 FILTER12\n",
        "11058        0        0        1\n",
        "11059        0        0        1\n",
        "11060        0        0        1\n",
        "11061        0        0        1\n",
        "11062        0        0        1\n",
        "11063        0        0        1\n"
       ]
      }
     ],
     "prompt_number": 6
    },
    {
     "cell_type": "markdown",
     "metadata": {},
     "source": [
      "Check whether we have the right one."
     ]
    },
    {
     "cell_type": "code",
     "collapsed": false,
     "input": [
      "%%R\n",
      "\n",
      "print(dim(data))\n",
      "print(names(data))\n",
      "print(lapply(data,class))\n"
     ],
     "language": "python",
     "metadata": {},
     "outputs": [
      {
       "metadata": {},
       "output_type": "display_data",
       "text": [
        "[1] 11064    42\n",
        " [1] \"UNITID_P\"    \"INSTNM\"      \"BRANCH\"      \"Address\"     \"City\"       \n",
        " [6] \"State\"       \"ZIP\"         \"sector_cd\"   \"Sector_desc\" \"men_total\"  \n",
        "[11] \"women_total\" \"Total\"       \"MURD10\"      \"NEG_M10\"     \"FORCIB10\"   \n",
        "[16] \"NONFOR10\"    \"ROBBE10\"     \"AGG_A10\"     \"BURGLA10\"    \"VEHIC10\"    \n",
        "[21] \"ARSON10\"     \"MURD11\"      \"NEG_M11\"     \"FORCIB11\"    \"NONFOR11\"   \n",
        "[26] \"ROBBE11\"     \"AGG_A11\"     \"BURGLA11\"    \"VEHIC11\"     \"ARSON11\"    \n",
        "[31] \"MURD12\"      \"NEG_M12\"     \"FORCIB12\"    \"NONFOR12\"    \"ROBBE12\"    \n",
        "[36] \"AGG_A12\"     \"BURGLA12\"    \"VEHIC12\"     \"ARSON12\"     \"FILTER10\"   \n",
        "[41] \"FILTER11\"    \"FILTER12\"   \n",
        "$UNITID_P\n",
        "[1] \"array\"\n",
        "\n",
        "$INSTNM\n",
        "[1] \"factor\"\n",
        "\n",
        "$BRANCH\n",
        "[1] \"factor\"\n",
        "\n",
        "$Address\n",
        "[1] \"factor\"\n",
        "\n",
        "$City\n",
        "[1] \"factor\"\n",
        "\n",
        "$State\n",
        "[1] \"factor\"\n",
        "\n",
        "$ZIP\n",
        "[1] \"factor\"\n",
        "\n",
        "$sector_cd\n",
        "[1] \"array\"\n",
        "\n",
        "$Sector_desc\n",
        "[1] \"factor\"\n",
        "\n",
        "$men_total\n",
        "[1] \"array\"\n",
        "\n",
        "$women_total\n",
        "[1] \"array\"\n",
        "\n",
        "$Total\n",
        "[1] \"array\"\n",
        "\n",
        "$MURD10\n",
        "[1] \"array\"\n",
        "\n",
        "$NEG_M10\n",
        "[1] \"array\"\n",
        "\n",
        "$FORCIB10\n",
        "[1] \"array\"\n",
        "\n",
        "$NONFOR10\n",
        "[1] \"array\"\n",
        "\n",
        "$ROBBE10\n",
        "[1] \"array\"\n",
        "\n",
        "$AGG_A10\n",
        "[1] \"array\"\n",
        "\n",
        "$BURGLA10\n",
        "[1] \"array\"\n",
        "\n",
        "$VEHIC10\n",
        "[1] \"array\"\n",
        "\n",
        "$ARSON10\n",
        "[1] \"array\"\n",
        "\n",
        "$MURD11\n",
        "[1] \"array\"\n",
        "\n",
        "$NEG_M11\n",
        "[1] \"array\"\n",
        "\n",
        "$FORCIB11\n",
        "[1] \"array\"\n",
        "\n",
        "$NONFOR11\n",
        "[1] \"array\"\n",
        "\n",
        "$ROBBE11\n",
        "[1] \"array\"\n",
        "\n",
        "$AGG_A11\n",
        "[1] \"array\"\n",
        "\n",
        "$BURGLA11\n",
        "[1] \"array\"\n",
        "\n",
        "$VEHIC11\n",
        "[1] \"array\"\n",
        "\n",
        "$ARSON11\n",
        "[1] \"array\"\n",
        "\n",
        "$MURD12\n",
        "[1] \"array\"\n",
        "\n",
        "$NEG_M12\n",
        "[1] \"array\"\n",
        "\n",
        "$FORCIB12\n",
        "[1] \"array\"\n",
        "\n",
        "$NONFOR12\n",
        "[1] \"array\"\n",
        "\n",
        "$ROBBE12\n",
        "[1] \"array\"\n",
        "\n",
        "$AGG_A12\n",
        "[1] \"array\"\n",
        "\n",
        "$BURGLA12\n",
        "[1] \"array\"\n",
        "\n",
        "$VEHIC12\n",
        "[1] \"array\"\n",
        "\n",
        "$ARSON12\n",
        "[1] \"array\"\n",
        "\n",
        "$FILTER10\n",
        "[1] \"array\"\n",
        "\n",
        "$FILTER11\n",
        "[1] \"array\"\n",
        "\n",
        "$FILTER12\n",
        "[1] \"array\"\n",
        "\n"
       ]
      }
     ],
     "prompt_number": 7
    },
    {
     "cell_type": "markdown",
     "metadata": {},
     "source": [
      "Using the data frame we just created, we save the plant data into a csv file into the raw data directory:"
     ]
    },
    {
     "cell_type": "code",
     "collapsed": false,
     "input": [
      "%%R\n",
      "\n",
      "write.csv(data, '/home/oski/project2/stat133-project2/examples/data/raw/oncampuscrime_to_be_cleaned.csv')"
     ],
     "language": "python",
     "metadata": {},
     "outputs": [],
     "prompt_number": 11
    },
    {
     "cell_type": "code",
     "collapsed": false,
     "input": [
      "ls ~/project2/stat133-project2/examples/data/raw/oncampuscrime_to_be_cleaned.csv"
     ],
     "language": "python",
     "metadata": {},
     "outputs": [
      {
       "output_type": "stream",
       "stream": "stdout",
       "text": [
        "/home/oski/project2/stat133-project2/examples/data/raw/oncampuscrime_to_be_cleaned.csv"
       ]
      },
      {
       "output_type": "stream",
       "stream": "stdout",
       "text": [
        "\r\n"
       ]
      }
     ],
     "prompt_number": 15
    },
    {
     "cell_type": "code",
     "collapsed": false,
     "input": [],
     "language": "python",
     "metadata": {},
     "outputs": []
    }
   ],
   "metadata": {}
  }
 ]
}