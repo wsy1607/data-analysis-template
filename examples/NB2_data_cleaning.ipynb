{
 "metadata": {
  "name": ""
 },
 "nbformat": 3,
 "nbformat_minor": 0,
 "worksheets": [
  {
   "cells": [
    {
     "cell_type": "heading",
     "level": 1,
     "metadata": {},
     "source": [
      "Data Cleaning"
     ]
    },
    {
     "cell_type": "markdown",
     "metadata": {},
     "source": [
      "In this notebook, we load our raw data into R. Then we clean missing values and check for outliers."
     ]
    },
    {
     "cell_type": "markdown",
     "metadata": {},
     "source": [
      "###Team members responsible for this notebook:\n",
      "\n",
      "We did all the work as a team without specific division of resposibility. "
     ]
    },
    {
     "cell_type": "heading",
     "level": 2,
     "metadata": {},
     "source": [
      "Loading data"
     ]
    },
    {
     "cell_type": "code",
     "collapsed": false,
     "input": [
      "%%bash\n",
      "\n",
      "pwd"
     ],
     "language": "python",
     "metadata": {},
     "outputs": [
      {
       "output_type": "stream",
       "stream": "stdout",
       "text": [
        "/home/oski/project2/stat133-project2/examples\n"
       ]
      }
     ],
     "prompt_number": 1
    },
    {
     "cell_type": "code",
     "collapsed": false,
     "input": [
      "%load_ext rmagic"
     ],
     "language": "python",
     "metadata": {},
     "outputs": [],
     "prompt_number": 2
    },
    {
     "cell_type": "code",
     "collapsed": false,
     "input": [
      "%%R \n",
      "\n",
      "data <- read.csv('/home/oski/project2/stat133-project2/examples/data/raw/oncampuscrime_to_be_cleaned.csv',header = TRUE,stringsAsFactors=FALSE)"
     ],
     "language": "python",
     "metadata": {},
     "outputs": [],
     "prompt_number": 3
    },
    {
     "cell_type": "code",
     "collapsed": false,
     "input": [
      "%%R -d data\n",
      "\n",
      "print(dim(data))"
     ],
     "language": "python",
     "metadata": {},
     "outputs": [
      {
       "metadata": {},
       "output_type": "display_data",
       "text": [
        "[1] 11064    43\n"
       ]
      }
     ],
     "prompt_number": 4
    },
    {
     "cell_type": "markdown",
     "metadata": {},
     "source": [
      "We don't want the first column 'X'."
     ]
    },
    {
     "cell_type": "code",
     "collapsed": false,
     "input": [
      "%%R\n",
      "\n",
      "data <- data[,2:dim(data)[2]]\n",
      "print(dim(data))\n",
      "print(names(data))"
     ],
     "language": "python",
     "metadata": {},
     "outputs": [
      {
       "metadata": {},
       "output_type": "display_data",
       "text": [
        "[1] 11064    42\n",
        " [1] \"UNITID_P\"    \"INSTNM\"      \"BRANCH\"      \"Address\"     \"City\"       \n",
        " [6] \"State\"       \"ZIP\"         \"sector_cd\"   \"Sector_desc\" \"men_total\"  \n",
        "[11] \"women_total\" \"Total\"       \"MURD10\"      \"NEG_M10\"     \"FORCIB10\"   \n",
        "[16] \"NONFOR10\"    \"ROBBE10\"     \"AGG_A10\"     \"BURGLA10\"    \"VEHIC10\"    \n",
        "[21] \"ARSON10\"     \"MURD11\"      \"NEG_M11\"     \"FORCIB11\"    \"NONFOR11\"   \n",
        "[26] \"ROBBE11\"     \"AGG_A11\"     \"BURGLA11\"    \"VEHIC11\"     \"ARSON11\"    \n",
        "[31] \"MURD12\"      \"NEG_M12\"     \"FORCIB12\"    \"NONFOR12\"    \"ROBBE12\"    \n",
        "[36] \"AGG_A12\"     \"BURGLA12\"    \"VEHIC12\"     \"ARSON12\"     \"FILTER10\"   \n",
        "[41] \"FILTER11\"    \"FILTER12\"   \n"
       ]
      }
     ],
     "prompt_number": 5
    },
    {
     "cell_type": "heading",
     "level": 2,
     "metadata": {},
     "source": [
      "Cleaning data"
     ]
    },
    {
     "cell_type": "markdown",
     "metadata": {},
     "source": [
      "Check whether we have missing values in each column."
     ]
    },
    {
     "cell_type": "code",
     "collapsed": false,
     "input": [
      "%%R\n",
      "\n",
      "check_NA <- rep(0,42)\n",
      "for (i in 1:dim(data)[2]){\n",
      "  check_NA[i] <- sum(is.na(data[(names(data)[i])]))\n",
      "}\n",
      "print(check_NA)"
     ],
     "language": "python",
     "metadata": {},
     "outputs": [
      {
       "metadata": {},
       "output_type": "display_data",
       "text": [
        " [1]    0    0    0    0    0    0    0    0    0   42   42   42 1371 1371 1371\n",
        "[16] 1371 1371 1371 1371 1371 1371  565  565  565  565  565  565  565  565  565\n",
        "[31]    0    0    0    0    0    0    0    0    0    0    0    0\n"
       ]
      }
     ],
     "prompt_number": 6
    },
    {
     "cell_type": "markdown",
     "metadata": {},
     "source": [
      "We do have some missing data. We are going to clean our data by each column."
     ]
    },
    {
     "cell_type": "heading",
     "level": 3,
     "metadata": {},
     "source": [
      "School ID"
     ]
    },
    {
     "cell_type": "markdown",
     "metadata": {},
     "source": [
      "First of all, we take a look at school ID."
     ]
    },
    {
     "cell_type": "code",
     "collapsed": false,
     "input": [
      "%%R\n",
      "\n",
      "head(data$UNITID_P)\n",
      "plot(data$UNITID_P)\n",
      "plot(data$UNITID_P[7700:7800])\n",
      "print(data$UNITID_P[7730])\n",
      "print(data$UNITID_P[7750])"
     ],
     "language": "python",
     "metadata": {},
     "outputs": [
      {
       "metadata": {},
       "output_type": "display_data",
       "text": [
        "[1] 262341001\n",
        "[1] 363439002\n"
       ]
      },
      {
       "metadata": {},
       "output_type": "display_data",
       "png": "[encoded data removed]"
      },
      {
       "metadata": {},
       "output_type": "display_data",
       "png": "[encoded data removed]"
      }
     ],
     "prompt_number": 7
    },
    {
     "cell_type": "markdown",
     "metadata": {},
     "source": [
      "There is a gap for some reason."
     ]
    },
    {
     "cell_type": "heading",
     "level": 3,
     "metadata": {},
     "source": [
      "Institution name"
     ]
    },
    {
     "cell_type": "code",
     "collapsed": false,
     "input": [
      "%%R\n",
      "\n",
      "print(which(data$INSTNM == 'nan'))"
     ],
     "language": "python",
     "metadata": {},
     "outputs": [
      {
       "metadata": {},
       "output_type": "display_data",
       "text": [
        "integer(0)\n"
       ]
      }
     ],
     "prompt_number": 8
    },
    {
     "cell_type": "markdown",
     "metadata": {},
     "source": [
      "So we don't have missing values for institution names."
     ]
    },
    {
     "cell_type": "heading",
     "level": 3,
     "metadata": {},
     "source": [
      "Address"
     ]
    },
    {
     "cell_type": "markdown",
     "metadata": {},
     "source": [
      "When load our data, we know there is a typo, which is an unexpected double quote to be cleaned. "
     ]
    },
    {
     "cell_type": "code",
     "collapsed": false,
     "input": [
      "%%R\n",
      "\n",
      "print(grep('\\\\\"',data$Address))\n",
      "typo <- grep('\\\\\"',data$Address)\n",
      "print(data$Address[typo])\n",
      "newAddress <- gsub('\\\\\"','\\'',data$Address[typo])\n",
      "data$Address[typo] <- newAddress\n",
      "print(data$Address[typo])"
     ],
     "language": "python",
     "metadata": {},
     "outputs": [
      {
       "metadata": {},
       "output_type": "display_data",
       "text": [
        "[1] 4359\n",
        "[1] \"1600 ST. Michales\\\"s Drive\"\n",
        "[1] \"1600 ST. Michales's Drive\"\n"
       ]
      }
     ],
     "prompt_number": 5
    },
    {
     "cell_type": "markdown",
     "metadata": {},
     "source": [
      "We replace the double quote by a single quote."
     ]
    },
    {
     "cell_type": "heading",
     "level": 3,
     "metadata": {},
     "source": [
      "City Info"
     ]
    },
    {
     "cell_type": "code",
     "collapsed": false,
     "input": [
      "%%R\n",
      "\n",
      "print(which(data$City == 'nan'))"
     ],
     "language": "python",
     "metadata": {},
     "outputs": [
      {
       "metadata": {},
       "output_type": "display_data",
       "text": [
        "integer(0)\n"
       ]
      }
     ],
     "prompt_number": 10
    },
    {
     "cell_type": "markdown",
     "metadata": {},
     "source": [
      "We don't have any mising values for city."
     ]
    },
    {
     "cell_type": "heading",
     "level": 3,
     "metadata": {},
     "source": [
      "State Info"
     ]
    },
    {
     "cell_type": "markdown",
     "metadata": {},
     "source": [
      "First we change the class as factor"
     ]
    },
    {
     "cell_type": "code",
     "collapsed": false,
     "input": [
      "%%R\n",
      "\n",
      "print(class(data$State))\n",
      "data$State <- as.factor(data$State)\n",
      "print(levels(data$State))"
     ],
     "language": "python",
     "metadata": {},
     "outputs": [
      {
       "metadata": {},
       "output_type": "display_data",
       "text": [
        "[1] \"character\"\n",
        " [1] \"AK\"  \"AL\"  \"AR\"  \"AS\"  \"AZ\"  \"CA\"  \"CO\"  \"CT\"  \"DC\"  \"DE\"  \"FL\"  \"FM\" \n",
        "[13] \"GA\"  \"GU\"  \"HI\"  \"IA\"  \"ID\"  \"IL\"  \"IN\"  \"KS\"  \"KY\"  \"LA\"  \"MA\"  \"MD\" \n",
        "[25] \"ME\"  \"MH\"  \"MI\"  \"MN\"  \"MO\"  \"MP\"  \"MS\"  \"MT\"  \"nan\" \"NC\"  \"ND\"  \"NE\" \n",
        "[37] \"NH\"  \"NJ\"  \"NM\"  \"NV\"  \"NY\"  \"OH\"  \"OK\"  \"OR\"  \"PA\"  \"PR\"  \"PW\"  \"RI\" \n",
        "[49] \"SC\"  \"SD\"  \"TN\"  \"TX\"  \"UT\"  \"VA\"  \"VI\"  \"VT\"  \"WA\"  \"WI\"  \"WV\"  \"WY\" \n"
       ]
      }
     ],
     "prompt_number": 11
    },
    {
     "cell_type": "markdown",
     "metadata": {},
     "source": [
      "However, we can see there are 60 states, including some US territories. We will take them away."
     ]
    },
    {
     "cell_type": "code",
     "collapsed": false,
     "input": [
      "%%R\n",
      "\n",
      "out1 <- which(data$State == 'nan')\n",
      "out2 <- which(data$State == 'AS')\n",
      "out3 <- which(data$State == 'FM')\n",
      "out4 <- which(data$State == 'GU')\n",
      "out5 <- which(data$State == 'MH')\n",
      "out6 <- which(data$State == 'MP')\n",
      "out7 <- which(data$State == 'PW')\n",
      "out8 <- which(data$State == 'PR')\n",
      "out9 <- which(data$State == 'VI')\n",
      "out <- c(out1,out2,out3,out4,out5,out6,out7,out8,out9)\n",
      "data <- data[-out,]"
     ],
     "language": "python",
     "metadata": {},
     "outputs": [],
     "prompt_number": 12
    },
    {
     "cell_type": "heading",
     "level": 3,
     "metadata": {},
     "source": [
      "ZIP Code"
     ]
    },
    {
     "cell_type": "markdown",
     "metadata": {},
     "source": [
      "We would like to change the class as factor and see whether all the ZIP are numbers."
     ]
    },
    {
     "cell_type": "code",
     "collapsed": false,
     "input": [
      "%%R\n",
      "\n",
      "print(class(data$ZIP))\n",
      "data$ZIP <- as.factor(data$ZIP)\n",
      "print(head(data$ZIP))\n",
      "print(grep('[a-z]|[A-Z]',data$ZIP))\n",
      "print(length(data$ZIP) == length(grep('[0-9]{5,9}',data$ZIP)))"
     ],
     "language": "python",
     "metadata": {},
     "outputs": [
      {
       "metadata": {},
       "output_type": "display_data",
       "text": [
        "[1] \"character\"\n",
        "[1] 35762     352940110 35801     361173553 35899     361040271\n",
        "8154 Levels: 006640889 010023359 010025000 01003 010132839 010203744 ... 99901\n",
        "integer(0)\n",
        "[1] TRUE\n"
       ]
      }
     ],
     "prompt_number": 13
    },
    {
     "cell_type": "heading",
     "level": 3,
     "metadata": {},
     "source": [
      "School Sector"
     ]
    },
    {
     "cell_type": "markdown",
     "metadata": {},
     "source": [
      "Have a look at all the levels of sectors."
     ]
    },
    {
     "cell_type": "code",
     "collapsed": false,
     "input": [
      "%%R\n",
      "\n",
      "levels(as.factor(data$sector_cd))\n",
      "#check for each sector \n",
      "for (i in c(0:9,99)){\n",
      "  cat(sprintf('sector ID %d : %s\\n',i,data$Sector_desc[data$sector_cd == i][1]))\n",
      "}"
     ],
     "language": "python",
     "metadata": {},
     "outputs": [
      {
       "metadata": {},
       "output_type": "display_data",
       "text": [
        "sector ID 0 : Administrative Unit Only\n",
        "sector ID 1 : Public, 4-year or above\n",
        "sector ID 2 : Private nonprofit, 4-year or above\n",
        "sector ID 3 : Private for-profit, 4-year or above\n",
        "sector ID 4 : Public, 2-year\n",
        "sector ID 5 : Private nonprofit, 2-year\n",
        "sector ID 6 : Private for-profit, 2-year\n",
        "sector ID 7 : Public, less-than 2-year\n",
        "sector ID 8 : Private nonprofit, less-than 2-year\n",
        "sector ID 9 : Private for-profit, less-than 2-year\n",
        "sector ID 99 : New Institution\n"
       ]
      }
     ],
     "prompt_number": 14
    },
    {
     "cell_type": "markdown",
     "metadata": {},
     "source": [
      "There are 11 types ofr institutions in the US. But we will focus on general ones which are types 1-9."
     ]
    },
    {
     "cell_type": "heading",
     "level": 3,
     "metadata": {},
     "source": [
      "Number of Students"
     ]
    },
    {
     "cell_type": "markdown",
     "metadata": {},
     "source": [
      "Since we already know that there are some missing values, we need to take them away. First, check the missing values are in the same raws for male students and female students."
     ]
    },
    {
     "cell_type": "code",
     "collapsed": false,
     "input": [
      "%%R\n",
      "\n",
      "print(all(which(is.na(data$Total)) == which(is.na(data$men_total))))\n",
      "print(all(which(is.na(data$Total)) == which(is.na(data$women_total))))"
     ],
     "language": "python",
     "metadata": {},
     "outputs": [
      {
       "metadata": {},
       "output_type": "display_data",
       "text": [
        "[1] TRUE\n",
        "[1] TRUE\n"
       ]
      }
     ],
     "prompt_number": 15
    },
    {
     "cell_type": "markdown",
     "metadata": {},
     "source": [
      "So they are in the same raws. Then we just take missing values away."
     ]
    },
    {
     "cell_type": "code",
     "collapsed": false,
     "input": [
      "%%R\n",
      "\n",
      "data <- data[-which(is.na(data$Total)),]"
     ],
     "language": "python",
     "metadata": {},
     "outputs": [],
     "prompt_number": 16
    },
    {
     "cell_type": "markdown",
     "metadata": {},
     "source": [
      "Now, we have gone over all the categorical data and background Info. Then we are going to check those numerical data. Before we go, we need to chack NA again."
     ]
    },
    {
     "cell_type": "code",
     "collapsed": false,
     "input": [
      "%%R\n",
      "\n",
      "check_NA <- rep(0,42)\n",
      "for (i in 1:dim(data)[2]){\n",
      "  check_NA[i] <- sum(is.na(data[(names(data)[i])]))\n",
      "}\n",
      "print(check_NA)"
     ],
     "language": "python",
     "metadata": {},
     "outputs": [
      {
       "metadata": {},
       "output_type": "display_data",
       "text": [
        " [1]    0    0    0    0    0    0    0    0    0    0    0    0 1280 1280 1280\n",
        "[16] 1280 1280 1280 1280 1280 1280  503  503  503  503  503  503  503  503  503\n",
        "[31]    0    0    0    0    0    0    0    0    0    0    0    0\n"
       ]
      }
     ],
     "prompt_number": 17
    },
    {
     "cell_type": "markdown",
     "metadata": {},
     "source": [
      "In our campus crime data set, we have crime statistics from the year 2010, 2011 and 2012. From the output above, we can see that for the year 2010, we have 1280 missing values, 503 for 2011 and 0 for 2012. Since we have more than 10000 raws, the proportion of NAs are not significant. So, we will take data for all these three years and then split data for those three years."
     ]
    },
    {
     "cell_type": "code",
     "collapsed": false,
     "input": [
      "%%R\n",
      "\n",
      "print(names(data))\n",
      "#extract data for 2010\n",
      "data10 <- data[-which(is.na(data$MURD10)),c(1:12,13:21,40)]\n",
      "#extract data for 2011\n",
      "data11 <- data[-which(is.na(data$MURD11)),c(1:12,22:30,41)]\n",
      "#extract data for 2012\n",
      "data12 <- data[,c(1:12,31:39,42)]"
     ],
     "language": "python",
     "metadata": {},
     "outputs": [
      {
       "metadata": {},
       "output_type": "display_data",
       "text": [
        " [1] \"UNITID_P\"    \"INSTNM\"      \"BRANCH\"      \"Address\"     \"City\"       \n",
        " [6] \"State\"       \"ZIP\"         \"sector_cd\"   \"Sector_desc\" \"men_total\"  \n",
        "[11] \"women_total\" \"Total\"       \"MURD10\"      \"NEG_M10\"     \"FORCIB10\"   \n",
        "[16] \"NONFOR10\"    \"ROBBE10\"     \"AGG_A10\"     \"BURGLA10\"    \"VEHIC10\"    \n",
        "[21] \"ARSON10\"     \"MURD11\"      \"NEG_M11\"     \"FORCIB11\"    \"NONFOR11\"   \n",
        "[26] \"ROBBE11\"     \"AGG_A11\"     \"BURGLA11\"    \"VEHIC11\"     \"ARSON11\"    \n",
        "[31] \"MURD12\"      \"NEG_M12\"     \"FORCIB12\"    \"NONFOR12\"    \"ROBBE12\"    \n",
        "[36] \"AGG_A12\"     \"BURGLA12\"    \"VEHIC12\"     \"ARSON12\"     \"FILTER10\"   \n",
        "[41] \"FILTER11\"    \"FILTER12\"   \n"
       ]
      }
     ],
     "prompt_number": 18
    },
    {
     "cell_type": "markdown",
     "metadata": {},
     "source": [
      "First, we double check NA for each single year."
     ]
    },
    {
     "cell_type": "code",
     "collapsed": false,
     "input": [
      "%%R\n",
      "\n",
      "#2010\n",
      "check_NA10 <- rep(0,22)\n",
      "for (i in 1:dim(data10)[2]){\n",
      "  check_NA10[i] <- sum(is.na(data10[(names(data10)[i])]))\n",
      "}\n",
      "print(check_NA10)\n",
      "#2011\n",
      "check_NA11 <- rep(0,22)\n",
      "for (i in 1:dim(data11)[2]){\n",
      "  check_NA11[i] <- sum(is.na(data11[(names(data11)[i])]))\n",
      "}\n",
      "print(check_NA11)\n",
      "#2012\n",
      "check_NA12 <- rep(0,22)\n",
      "for (i in 1:dim(data12)[2]){\n",
      "  check_NA12[i] <- sum(is.na(data12[(names(data12)[i])]))\n",
      "}\n",
      "print(check_NA12)"
     ],
     "language": "python",
     "metadata": {},
     "outputs": [
      {
       "metadata": {},
       "output_type": "display_data",
       "text": [
        " [1] 0 0 0 0 0 0 0 0 0 0 0 0 0 0 0 0 0 0 0 0 0 0\n",
        " [1] 0 0 0 0 0 0 0 0 0 0 0 0 0 0 0 0 0 0 0 0 0 0\n",
        " [1] 0 0 0 0 0 0 0 0 0 0 0 0 0 0 0 0 0 0 0 0 0 0\n"
       ]
      }
     ],
     "prompt_number": 19
    },
    {
     "cell_type": "markdown",
     "metadata": {},
     "source": [
      "It is good since after cleaning the data, we don't have missing values for each year."
     ]
    },
    {
     "cell_type": "markdown",
     "metadata": {},
     "source": [
      "Then we are going to check for each numerical data by boxplots."
     ]
    },
    {
     "cell_type": "heading",
     "level": 3,
     "metadata": {},
     "source": [
      "Murder"
     ]
    },
    {
     "cell_type": "code",
     "collapsed": false,
     "input": [
      "%%R \n",
      "\n",
      "boxplot(data10[,13],data11[,13],data12[,13],xlab=\"Murder\")"
     ],
     "language": "python",
     "metadata": {},
     "outputs": [
      {
       "metadata": {},
       "output_type": "display_data",
       "png": "[encoded data removed]"
      }
     ],
     "prompt_number": 20
    },
    {
     "cell_type": "markdown",
     "metadata": {},
     "source": [
      "In the boxplot above, the left one corresponds to 2010. Then middle one is for 2011, and right one for 2012. We can see that the biggest one is $3$, nothing special."
     ]
    },
    {
     "cell_type": "heading",
     "level": 3,
     "metadata": {},
     "source": [
      "Negligent Manslaughter"
     ]
    },
    {
     "cell_type": "code",
     "collapsed": false,
     "input": [
      "%%R\n",
      "\n",
      "boxplot(data10[,14],data11[,14],data12[,14],xlab=\"Negligent Manslaughter\")"
     ],
     "language": "python",
     "metadata": {},
     "outputs": [
      {
       "metadata": {},
       "output_type": "display_data",
       "png": "[encoded data removed]"
      }
     ],
     "prompt_number": 21
    },
    {
     "cell_type": "markdown",
     "metadata": {},
     "source": [
      "There are only $0$ and $1$, nothing special."
     ]
    },
    {
     "cell_type": "heading",
     "level": 3,
     "metadata": {},
     "source": [
      "Forcible Sex Offense"
     ]
    },
    {
     "cell_type": "code",
     "collapsed": false,
     "input": [
      "%%R\n",
      "\n",
      "boxplot(data10[,15],data11[,15],data12[,15],xlab=\"Forcible Sex Offense\")"
     ],
     "language": "python",
     "metadata": {},
     "outputs": [
      {
       "metadata": {},
       "output_type": "display_data",
       "png": "[encoded data removed]"
      }
     ],
     "prompt_number": 22
    },
    {
     "cell_type": "markdown",
     "metadata": {},
     "source": [
      "In 2012, there is one significant outlier. "
     ]
    },
    {
     "cell_type": "code",
     "collapsed": false,
     "input": [
      "%%R\n",
      "\n",
      "print(data$INSTNM[which(data$FORCIB12>50)])\n",
      "print(data$Total[which(data$FORCIB12>50)])"
     ],
     "language": "python",
     "metadata": {},
     "outputs": [
      {
       "metadata": {},
       "output_type": "display_data",
       "text": [
        "[1] \"Pennsylvania State University-Main Campus\"\n",
        "[1] 45783\n"
       ]
      }
     ],
     "prompt_number": 23
    },
    {
     "cell_type": "markdown",
     "metadata": {},
     "source": [
      "The outlier comes from Pen State University which has totally 45783 students."
     ]
    },
    {
     "cell_type": "heading",
     "level": 3,
     "metadata": {},
     "source": [
      "Nonforcible Sex Offense"
     ]
    },
    {
     "cell_type": "code",
     "collapsed": false,
     "input": [
      "%%R\n",
      "\n",
      "boxplot(data10[,16],data11[,16],data12[,16],xlab=\"Nonforcible Sex Offense\")"
     ],
     "language": "python",
     "metadata": {},
     "outputs": [
      {
       "metadata": {},
       "output_type": "display_data",
       "png": "[encoded data removed]"
      }
     ],
     "prompt_number": 24
    },
    {
     "cell_type": "markdown",
     "metadata": {},
     "source": [
      "The largest one is 4, nothing special."
     ]
    },
    {
     "cell_type": "heading",
     "level": 3,
     "metadata": {},
     "source": [
      "Robbery"
     ]
    },
    {
     "cell_type": "code",
     "collapsed": false,
     "input": [
      "%%R\n",
      "\n",
      "boxplot(data10[,17],data11[,17],data12[,17],xlab=\"Robbery\")"
     ],
     "language": "python",
     "metadata": {},
     "outputs": [
      {
       "metadata": {},
       "output_type": "display_data",
       "png": "[encoded data removed]"
      }
     ],
     "prompt_number": 25
    },
    {
     "cell_type": "markdown",
     "metadata": {},
     "source": [
      "In 2012, there is one significant outlier."
     ]
    },
    {
     "cell_type": "code",
     "collapsed": false,
     "input": [
      "%%R\n",
      "\n",
      "print(data$INSTNM[which(data$ROBBE12>30)])\n",
      "print(data$Total[which(data$ROBBE12>30)])\n",
      "print(data$City[which(data$ROBBE12>30)])\n",
      "print(data$ZIP[which(data$ROBBE12>30)])"
     ],
     "language": "python",
     "metadata": {},
     "outputs": [
      {
       "metadata": {},
       "output_type": "display_data",
       "text": [
        "[1] \"Shimer College\"\n",
        "[1] 112\n",
        "[1] \"Chicago\"\n",
        "[1] 606163893\n",
        "8154 Levels: 006640889 010023359 010025000 01003 010132839 010203744 ... 99901\n"
       ]
      }
     ],
     "prompt_number": 26
    },
    {
     "cell_type": "markdown",
     "metadata": {},
     "source": [
      "The number of total students in Shimer College is only 112, but there are more than 30 robberies in 2012. "
     ]
    },
    {
     "cell_type": "heading",
     "level": 3,
     "metadata": {},
     "source": [
      "Aggravated Assault"
     ]
    },
    {
     "cell_type": "code",
     "collapsed": false,
     "input": [
      "%%R\n",
      "\n",
      "boxplot(data10[,18],data11[,18],data12[,18],xlab=\"Aggravated Assault\")"
     ],
     "language": "python",
     "metadata": {},
     "outputs": [
      {
       "metadata": {},
       "output_type": "display_data",
       "png": "[encoded data removed]"
      }
     ],
     "prompt_number": 27
    },
    {
     "cell_type": "markdown",
     "metadata": {},
     "source": [
      "In 2011 and 2012, there are three significant outliers."
     ]
    },
    {
     "cell_type": "code",
     "collapsed": false,
     "input": [
      "%%R\n",
      "\n",
      "print(data$INSTNM[which(data$AGG_A11>40)])\n",
      "print(data$Total[which(data$AGG_A11>40)])\n",
      "print(data$INSTNM[which(data$AGG_A12>40)])\n",
      "print(data$Total[which(data$AGG_A12>40)])"
     ],
     "language": "python",
     "metadata": {},
     "outputs": [
      {
       "metadata": {},
       "output_type": "display_data",
       "text": [
        "[1] \"Little Priest Tribal College\"\n",
        "[1] 144\n",
        "[1] \"University of Illinois at Chicago\" \"Grambling State University\"       \n",
        "[1] 27875  5277\n"
       ]
      }
     ],
     "prompt_number": 28
    },
    {
     "cell_type": "heading",
     "level": 3,
     "metadata": {},
     "source": [
      "Burglary"
     ]
    },
    {
     "cell_type": "code",
     "collapsed": false,
     "input": [
      "%%R\n",
      "\n",
      "boxplot(data10[,19],data11[,19],data12[,19],xlab=\"Burglary\")"
     ],
     "language": "python",
     "metadata": {},
     "outputs": [
      {
       "metadata": {},
       "output_type": "display_data",
       "png": "[encoded data removed]"
      }
     ],
     "prompt_number": 29
    },
    {
     "cell_type": "markdown",
     "metadata": {},
     "source": [
      "In 2010, there are two significant outliers."
     ]
    },
    {
     "cell_type": "code",
     "collapsed": false,
     "input": [
      "%%R\n",
      "\n",
      "print(data$INSTNM[which(data$BURGLA10>150)])\n",
      "print(data$Total[which(data$BURGLA10>150)])"
     ],
     "language": "python",
     "metadata": {},
     "outputs": [
      {
       "metadata": {},
       "output_type": "display_data",
       "text": [
        "[1] \"Benedict College\"    \"Stanford University\"\n",
        "[1]  2917 18519\n"
       ]
      }
     ],
     "prompt_number": 30
    },
    {
     "cell_type": "heading",
     "level": 3,
     "metadata": {},
     "source": [
      "Motor Vehicle Theft"
     ]
    },
    {
     "cell_type": "code",
     "collapsed": false,
     "input": [
      "%%R\n",
      "\n",
      "boxplot(data10[,20],data11[,20],data12[,20],xlab=\"Motor Vehicle Theft\")"
     ],
     "language": "python",
     "metadata": {},
     "outputs": [
      {
       "metadata": {},
       "output_type": "display_data",
       "png": "[encoded data removed]"
      }
     ],
     "prompt_number": 31
    },
    {
     "cell_type": "markdown",
     "metadata": {},
     "source": [
      "In 2011, there is a significant outlier."
     ]
    },
    {
     "cell_type": "code",
     "collapsed": false,
     "input": [
      "%%R\n",
      "\n",
      "print(data$INSTNM[which(data$VEHIC11>50)])\n",
      "print(data$Total[which(data$VEHIC11>50)])"
     ],
     "language": "python",
     "metadata": {},
     "outputs": [
      {
       "metadata": {},
       "output_type": "display_data",
       "text": [
        "[1] \"University of New Mexico-Main Campus\"\n",
        "[1] 29033\n"
       ]
      }
     ],
     "prompt_number": 32
    },
    {
     "cell_type": "heading",
     "level": 3,
     "metadata": {},
     "source": [
      "Motor Arson"
     ]
    },
    {
     "cell_type": "code",
     "collapsed": false,
     "input": [
      "%%R\n",
      "\n",
      "boxplot(data10[,21],data11[,21],data12[,21],xlab=\"Arson\")"
     ],
     "language": "python",
     "metadata": {},
     "outputs": [
      {
       "metadata": {},
       "output_type": "display_data",
       "png": "[encoded data removed]"
      }
     ],
     "prompt_number": 33
    },
    {
     "cell_type": "markdown",
     "metadata": {},
     "source": [
      "We don't see any significant outliers."
     ]
    },
    {
     "cell_type": "heading",
     "level": 3,
     "metadata": {},
     "source": [
      "Output Data"
     ]
    },
    {
     "cell_type": "markdown",
     "metadata": {},
     "source": [
      "After cleaning all the missing values and investigate all the quantitative variables, we need to write the cleaned data out as a .csv file."
     ]
    },
    {
     "cell_type": "code",
     "collapsed": false,
     "input": [
      "%%R\n",
      "\n",
      "write.csv(data, '/home/oski/project2/stat133-project2/examples/data/cleaned/oncampuscrime_cleaned.csv')"
     ],
     "language": "python",
     "metadata": {},
     "outputs": [],
     "prompt_number": 34
    }
   ],
   "metadata": {}
  }
 ]
}